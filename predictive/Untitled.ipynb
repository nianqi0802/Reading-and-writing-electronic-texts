{
 "cells": [
  {
   "cell_type": "markdown",
   "metadata": {},
   "source": [
    "I copy 333 sayings in fortune cookie from this website:   \n",
    "http://www.fortunecookiemessage.com/archive.php?start=750  \n",
    "  \n",
    "  \n",
    "And chapter one of \"Stephen Hawking A Brief History Of Time\"  \n",
    "https://archive.org/stream/StephenHawkingABriefHistoryOfTime/Stephen+Hawking+A+Brief+History+Of+Time_djvu.txt  \n"
   ]
  },
  {
   "cell_type": "code",
   "execution_count": 3,
   "metadata": {},
   "outputs": [],
   "source": [
    "def add_to_model(model, n, seq):\n",
    "    # make a copy of seq and append None to the end\n",
    "    seq = list(seq[:]) + [None]\n",
    "    for i in range(len(seq)-n):\n",
    "        # tuple because we're using it as a dict key!\n",
    "        gram = tuple(seq[i:i+n])\n",
    "        next_item = seq[i+n]            \n",
    "        if gram not in model:\n",
    "            model[gram] = []\n",
    "        model[gram].append(next_item)\n",
    "\n",
    "def markov_model_from_sequences(n, sequences):\n",
    "    model = {}\n",
    "    for item in sequences:\n",
    "        add_to_model(model, n, item)\n",
    "    return model"
   ]
  },
  {
   "cell_type": "code",
   "execution_count": 4,
   "metadata": {},
   "outputs": [],
   "source": [
    "import random\n",
    "def gen_from_model(n, model, start=None, max_gen=100):\n",
    "    if start is None:\n",
    "        start = random.choice(list(model.keys()))\n",
    "    output = list(start)\n",
    "    for i in range(max_gen):\n",
    "        start = tuple(output[-n:])\n",
    "        next_item = random.choice(model[start])\n",
    "        if next_item is None:\n",
    "            break\n",
    "        else:\n",
    "            output.append(next_item)\n",
    "    return output\n",
    "\n",
    "\n",
    "def markov_generate_from_sequences(n, sequences, count, max_gen=100):\n",
    "    starts = [item[:n] for item in sequences if len(item) >= n]\n",
    "    model = markov_model_from_sequences(n, sequences)\n",
    "    return [gen_from_model(n, model, random.choice(starts), max_gen)\n",
    "           for i in range(count)]"
   ]
  },
  {
   "cell_type": "code",
   "execution_count": 2,
   "metadata": {},
   "outputs": [],
   "source": [
    "def cleaning(filehandle):\n",
    "    timetext = filehandle.read()\n",
    "    timetext = timetext.replace(\", \", \" \")\n",
    "    timetext = timetext.replace(\": \", \" \")\n",
    "    timetext = timetext.replace(\"; \", \" \")\n",
    "    timetext = timetext.replace(\". \", \" \")\n",
    "    timetext = timetext.replace(\" (\", \" \")\n",
    "    timetext = timetext.replace(\") \", \" \")\n",
    "    timetext = timetext.replace(\"? \", \" \")\n",
    "    timetext = timetext.replace(\"! \", \" \")\n",
    "    return timetext.split('\\n')"
   ]
  },
  {
   "cell_type": "code",
   "execution_count": 13,
   "metadata": {},
   "outputs": [
    {
     "name": "stdout",
     "output_type": "stream",
     "text": [
      "been considered previously in an unchanging universe a beginning in time is something that has to be\n",
      "this is not so far from the end of the last ice age about 1 0,000 bc which is when archaeologists tell us that\n"
     ]
    }
   ],
   "source": [
    "time_words = [line.strip().lower().split() for line in cleaning(open('time.txt'))]\n",
    "\n",
    "for item in markov_generate_from_sequences(5, time_words, 2):\n",
    "    print(' '.join(item))"
   ]
  },
  {
   "cell_type": "code",
   "execution_count": 14,
   "metadata": {
    "scrolled": true
   },
   "outputs": [
    {
     "name": "stdout",
     "output_type": "stream",
     "text": [
      "life is beautiful be happy.\n",
      "if you never give up that makes us rich.\n",
      "do not there is no disgrace.\n",
      "you will think for you shortly.\n",
      "it's up to you to call.\n",
      "you will be traveling and coming into your life with untold memories.\n",
      "you will be rewarded for being a good life.\n",
      "bread today is getting you closer to where you want to be old and wise you must first be young and stupid.\n",
      "being alone and being lonely are two different things\n",
      "a journey of a man is born to live and not prepare to live and not prepare to live and not prepare to live.\n",
      "don't pursue happiness - create it.\n",
      "smile tomorrow is never too late just as it does not make the best you very soon.\n",
      "happiness is in life embrace it visualize it and defeat it!\n",
      "when fear hurts you conquer it and for it will never get anything\n"
     ]
    }
   ],
   "source": [
    "cookie_words = [line.strip().lower().split() for line in cleaning(open('fortunecookie.txt'))]\n",
    "\n",
    "for item in markov_generate_from_sequences(2, cookie_words, 14):\n",
    "    print(' '.join(item))"
   ]
  },
  {
   "cell_type": "code",
   "execution_count": 20,
   "metadata": {},
   "outputs": [
    {
     "name": "stdout",
     "output_type": "stream",
     "text": [
      "land is always needed but not always a foe.\n",
      "its amazing how much good you can disprove a theory to describe the universe itself could be explained in this life it is certainly the way that we draw the right conclusions about the predications a quantum theory of gravity was based on darwin’s principle of natural selection has given us would be meaningless to suppose that the planets to follow elliptical paths around the\n",
      "happiness is an instance of the arts and music.\n",
      "never underestimate the power within yourself\n",
      "predictions about the nature of the theory survives and our confidence in it newton not only put forward a theory\n",
      "your dearest dream is coming shortly.\n",
      "your ability for accomplishment will follow with success.\n",
      "disagree we have to be\n",
      "newton realized that newton’s theory of gravity einstein’s general theory of relativity describes the force of gravity showed that the moon the sun\n"
     ]
    }
   ],
   "source": [
    "both_lines = cookie_words + time_words\n",
    "for item in markov_generate_from_sequences(2, both_lines, 9, max_gen=150):\n",
    "    print(' '.join(item))"
   ]
  },
  {
   "cell_type": "markdown",
   "metadata": {},
   "source": [
    "### Here are some interesting sentences came out so far:  \n",
    "  \n",
    "#### The universe in the end on a beutiful ending without regrets. handle your own happiness."
   ]
  }
 ],
 "metadata": {
  "kernelspec": {
   "display_name": "Python 3",
   "language": "python",
   "name": "python3"
  },
  "language_info": {
   "codemirror_mode": {
    "name": "ipython",
    "version": 3
   },
   "file_extension": ".py",
   "mimetype": "text/x-python",
   "name": "python",
   "nbconvert_exporter": "python",
   "pygments_lexer": "ipython3",
   "version": "3.6.8"
  }
 },
 "nbformat": 4,
 "nbformat_minor": 2
}
