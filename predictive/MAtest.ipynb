{
 "cells": [
  {
   "cell_type": "markdown",
   "metadata": {},
   "source": [
    "I copy 333 sayings in fortune cookie from this website:  \n",
    "http://www.fortunecookiemessage.com/archive.php?start=750\n",
    "\n",
    "And chapter one of \"Stephen Hawking A Brief History Of Time\"\n",
    "https://archive.org/stream/StephenHawkingABriefHistoryOfTime/Stephen+Hawking+A+Brief+History+Of+Time_djvu.txt"
   ]
  },
  {
   "cell_type": "code",
   "execution_count": 10,
   "metadata": {},
   "outputs": [],
   "source": [
    "def cleaning(filehandle):\n",
    "    timetext = filehandle.read()\n",
    "    timetext = timetext.replace(\", \", \" \")\n",
    "    timetext = timetext.replace(\": \", \" \")\n",
    "    timetext = timetext.replace(\"; \", \" \")\n",
    "    timetext = timetext.replace(\". \", \" \")\n",
    "    timetext = timetext.replace(\" (\", \" \")\n",
    "    timetext = timetext.replace(\") \", \" \")\n",
    "    timetext = timetext.replace(\"? \", \" \")\n",
    "    timetext = timetext.replace(\"! \", \" \")\n",
    "    #return timetext.split('\\n')\n",
    "    return timetext"
   ]
  },
  {
   "cell_type": "code",
   "execution_count": 155,
   "metadata": {},
   "outputs": [],
   "source": [
    "text_fcookie = open('fortunecookie.txt').read()\n",
    "text_time =  open('time.txt').read()"
   ]
  },
  {
   "cell_type": "code",
   "execution_count": 12,
   "metadata": {},
   "outputs": [
    {
     "name": "stdout",
     "output_type": "stream",
     "text": [
      "Collecting markovify\n",
      "  Using cached https://files.pythonhosted.org/packages/94/b2/b4ce1e461bb3482b1fd63328a2097aed5917cdfa0dbfe9492a84ea46e2ab/markovify-0.7.1.tar.gz\n",
      "Collecting unidecode (from markovify)\n",
      "  Using cached https://files.pythonhosted.org/packages/31/39/53096f9217b057cb049fe872b7fc7ce799a1a89b76cf917d9639e7a558b5/Unidecode-1.0.23-py2.py3-none-any.whl\n",
      "Building wheels for collected packages: markovify\n",
      "  Building wheel for markovify (setup.py) ... \u001b[?25ldone\n",
      "\u001b[?25h  Stored in directory: /Users/nianqi/Library/Caches/pip/wheels/66/fe/5b/07257dd2401d9835447a0f0223f967c998c153404d32612253\n",
      "Successfully built markovify\n",
      "Installing collected packages: unidecode, markovify\n",
      "Successfully installed markovify-0.7.1 unidecode-1.0.23\n"
     ]
    }
   ],
   "source": [
    "!pip install markovify"
   ]
  },
  {
   "cell_type": "code",
   "execution_count": 14,
   "metadata": {},
   "outputs": [],
   "source": [
    "import markovify"
   ]
  },
  {
   "cell_type": "code",
   "execution_count": 32,
   "metadata": {},
   "outputs": [
    {
     "name": "stdout",
     "output_type": "stream",
     "text": [
      "Fortune favors the brave.\n"
     ]
    }
   ],
   "source": [
    "generator_a = markovify.Text(text_fcookie)\n",
    "print(generator_a.make_short_sentence(40, test_output=False))"
   ]
  },
  {
   "cell_type": "code",
   "execution_count": 165,
   "metadata": {},
   "outputs": [
    {
     "name": "stdout",
     "output_type": "stream",
     "text": [
      "The earth stood at the planet Mercury revealed a small difference between its predictions and those of general relativity is very small in the past that what we call intelligence and scientific discovery have conveyed a survival advantage.\n"
     ]
    }
   ],
   "source": [
    "gen_a_1 = markovify.Text(text_time, state_size=2)\n",
    "print(gen_a_1.make_sentence(test_output=False))"
   ]
  },
  {
   "cell_type": "code",
   "execution_count": 59,
   "metadata": {},
   "outputs": [],
   "source": [
    "class SentencesByChar(markovify.Text):\n",
    "    def word_split(self, sentence):\n",
    "        return list(sentence)\n",
    "    def word_join(self, words):\n",
    "        return \"\".join(words)"
   ]
  },
  {
   "cell_type": "code",
   "execution_count": 71,
   "metadata": {},
   "outputs": [
    {
     "name": "stdout",
     "output_type": "stream",
     "text": [
      "If you speak honestly everything happening now make the beginning useually means ease at the end.\n"
     ]
    }
   ],
   "source": [
    "gen_a_char = SentencesByChar(text_fcookie, state_size=7)\n",
    "print(gen_a_char.make_sentence(test_output=False).replace(\"\\n\", \" \"))"
   ]
  },
  {
   "cell_type": "code",
   "execution_count": 223,
   "metadata": {},
   "outputs": [],
   "source": [
    "# change to \"word\" for a word-level model\n",
    "level = \"char\"\n",
    "# controls the length of the n-gram\n",
    "order = 7\n",
    "# controls the number of lines to output\n",
    "output_n = 1000\n",
    "# weights between the models; text A first, text B second.\n",
    "# if you want to completely exclude one model, set its corresponding value to 0\n",
    "weights = [0.4, 0.6]\n",
    "# limit sentence output to this number of characters\n",
    "length_limit = 180"
   ]
  },
  {
   "cell_type": "code",
   "execution_count": 258,
   "metadata": {},
   "outputs": [
    {
     "name": "stdout",
     "output_type": "stream",
     "text": [
      "I do and I understand.\n",
      "I shall see,  in later see the sphere carried theory itself sooner than circles.\n",
      "I see and I forget.\n",
      "I shall see,  in later see the spheres that  everything was made out of four elements, earth, as Aristotle even quoted an estimate about sciences.\n",
      "I think, you also should be an infinite distributed outside this is still always in the mind except by enriching others to some of our search for a new theory.\n",
      "I see and I forget.\n",
      "I think, you also should it determine that we must live.\n",
      "I see and I remember.\n",
      "I shall take time.\n",
      "I see and I understand.\n"
     ]
    }
   ],
   "source": [
    "I_output = []\n",
    "You_short = []\n",
    "You_long = []\n",
    "model_cls = markovify.Text if level == \"word\" else SentencesByChar\n",
    "gen_a = model_cls(text_fcookie, state_size=order)\n",
    "gen_b = model_cls(text_time, state_size=order)\n",
    "gen_combo = markovify.combine([gen_a, gen_b], weights)\n",
    "for i in range(output_n):\n",
    "    out = gen_combo.make_short_sentence(length_limit, test_output=False)\n",
    "    out = out.replace(\"\\n\", \" \")\n",
    "    if (out[0] == 'I') & (out[1] == ' '):\n",
    "        I_output.append(out)\n",
    "        print(out)\n",
    "    if(out[0]=='Y') & (out[1] == 'o'):\n",
    "        if len(out) < 40:\n",
    "            You_short.append(out)\n",
    "        else:\n",
    "            You_long.append(out)\n",
    "            "
   ]
  },
  {
   "cell_type": "code",
   "execution_count": 234,
   "metadata": {
    "scrolled": true
   },
   "outputs": [
    {
     "name": "stdout",
     "output_type": "stream",
     "text": [
      "Collecting tracery\n",
      "  Using cached https://files.pythonhosted.org/packages/96/9a/7a7ffa8ace49ac6a3f422fdd83caf8d0ad0d132f01389f02845379033a7b/tracery-0.1.1.tar.gz\n",
      "Building wheels for collected packages: tracery\n",
      "  Building wheel for tracery (setup.py) ... \u001b[?25ldone\n",
      "\u001b[?25h  Stored in directory: /Users/nianqi/Library/Caches/pip/wheels/22/ba/09/8341e10777b9d2bf6d5414d3c9627b7812f5bedce4b3edacac\n",
      "Successfully built tracery\n",
      "Installing collected packages: tracery\n",
      "Successfully installed tracery-0.1.1\n"
     ]
    }
   ],
   "source": [
    "!pip install tracery\n"
   ]
  },
  {
   "cell_type": "code",
   "execution_count": 240,
   "metadata": {},
   "outputs": [],
   "source": [
    "import tracery\n",
    "import random\n",
    "import json\n"
   ]
  },
  {
   "cell_type": "code",
   "execution_count": 242,
   "metadata": {},
   "outputs": [],
   "source": [
    "from tracery.modifiers import base_english\n"
   ]
  },
  {
   "cell_type": "code",
   "execution_count": 262,
   "metadata": {
    "scrolled": true
   },
   "outputs": [
    {
     "name": "stdout",
     "output_type": "stream",
     "text": [
      "You will show himself.\n",
      "I see and I understand.\n",
      "Your ability did not, was one of the properties that it had been around the planet this is still be variations the theory.\n",
      "\n",
      "\n"
     ]
    }
   ],
   "source": [
    "rules ={\n",
    "    \"origin\" : [\"#youshort#\\n#I#\\n#youlong#\"],    \n",
    "    \n",
    "    \"youshort\" : [\n",
    "       random.choice(You_short)\n",
    "    ],\n",
    "   \n",
    "    \"I\":[\n",
    "        random.choice(I_output)\n",
    "    ],\n",
    "    \n",
    "     \"youlong\":[\n",
    "        random.choice(You_long)\n",
    "    ]\n",
    "    \n",
    "}\n",
    "\n",
    "\n",
    "\n",
    "grammar = tracery.Grammar(rules)\n",
    "grammar.add_modifiers(base_english)\n",
    "text = grammar.flatten(\"#origin#\")\n",
    "\n",
    "print(grammar.flatten(\"#origin#\"))\n",
    "print(\"\\n\")\n"
   ]
  },
  {
   "cell_type": "markdown",
   "metadata": {},
   "source": [
    "Some outputs: \n",
    "\n",
    "You are extremely loved.  \n",
    "I see and I remember.  \n",
    "Your future, would break the  picture of our search for it has an interesting reflection.  \n",
    "  \n",
    "You are doing what often right.  \n",
    "I see and I remember.  \n",
    "You cannot become better to be different from the difference at all?  \n",
    "  \n",
    "You will write a book.  \n",
    "I do and I forget.  \n",
    "Your ability  to predicted did not  think to suggest that even the shadows before the beginning on its axis, it became nature.  \n",
    "\n",
    "You can never thrown away.   \n",
    "I see and I understand the predictions of the stars.  \n",
    "You believe in the significantly affect their position of stars, distributed outside the universe.  \n",
    "  \n",
    "You are always in the sky.  \n",
    "I think, you also should be as brightly nearer each  other, the first half of this century passed before  then?  \n",
    "You are Beautiful ending without regrets what could have caused the master of the  major endeavors in physics today, look first see the spheres in order more Chinese food.  \n",
    "\n",
    "You will find your money.  \n",
    "I do and I forget.  \n",
    "You will have unexpected great things in the goodness of mankind’s observed.  \n",
    "  \n",
    "You will enjoy life.  \n",
    "I think, you ate your opponent to do something that had  been considered absurd.  \n",
    "You created, and  time, but he also develop in a complete unified theory came in 1609.  "
   ]
  }
 ],
 "metadata": {
  "kernelspec": {
   "display_name": "Python 3",
   "language": "python",
   "name": "python3"
  },
  "language_info": {
   "codemirror_mode": {
    "name": "ipython",
    "version": 3
   },
   "file_extension": ".py",
   "mimetype": "text/x-python",
   "name": "python",
   "nbconvert_exporter": "python",
   "pygments_lexer": "ipython3",
   "version": "3.6.8"
  }
 },
 "nbformat": 4,
 "nbformat_minor": 2
}
