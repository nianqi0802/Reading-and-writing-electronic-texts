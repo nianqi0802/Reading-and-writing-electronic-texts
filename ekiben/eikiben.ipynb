{
 "cells": [
  {
   "cell_type": "code",
   "execution_count": 9,
   "metadata": {},
   "outputs": [],
   "source": [
    "import json"
   ]
  },
  {
   "cell_type": "code",
   "execution_count": 10,
   "metadata": {},
   "outputs": [],
   "source": [
    "sauce_tale = open('jptales.txt').read()\n",
    "sauce_gtale = open('Grimm.txt').read()\n",
    "shape = open(\"shape.txt\").read().split(\"\\n\")\n",
    "seasoning = open(\"seasoning.txt\").read().split(\"\\n\")\n",
    "name = open(\"name.txt\").read().split(\"\\n\")"
   ]
  },
  {
   "cell_type": "code",
   "execution_count": 11,
   "metadata": {
    "scrolled": true
   },
   "outputs": [],
   "source": [
    "food = json.load(open(\"foodcolor.json\"))"
   ]
  },
  {
   "cell_type": "code",
   "execution_count": 243,
   "metadata": {},
   "outputs": [
    {
     "name": "stdout",
     "output_type": "stream",
     "text": [
      "Requirement already satisfied: markovify in /Users/nianqi/anaconda3/lib/python3.6/site-packages (0.7.1)\r\n",
      "Requirement already satisfied: unidecode in /Users/nianqi/anaconda3/lib/python3.6/site-packages (from markovify) (1.0.23)\r\n"
     ]
    }
   ],
   "source": [
    "!pip install markovify"
   ]
  },
  {
   "cell_type": "code",
   "execution_count": 244,
   "metadata": {},
   "outputs": [
    {
     "name": "stdout",
     "output_type": "stream",
     "text": [
      "Requirement already satisfied: pyttsx in /Users/nianqi/anaconda3/lib/python3.6/site-packages (1.1)\r\n"
     ]
    }
   ],
   "source": [
    "!pip install pyttsx"
   ]
  },
  {
   "cell_type": "code",
   "execution_count": 12,
   "metadata": {},
   "outputs": [],
   "source": [
    "import markovify"
   ]
  },
  {
   "cell_type": "code",
   "execution_count": 13,
   "metadata": {},
   "outputs": [],
   "source": [
    "import tracery\n",
    "import random\n",
    "import json\n",
    "from tracery.modifiers import base_english"
   ]
  },
  {
   "cell_type": "code",
   "execution_count": 14,
   "metadata": {},
   "outputs": [],
   "source": [
    "import pronouncing as pr"
   ]
  },
  {
   "cell_type": "code",
   "execution_count": 16,
   "metadata": {},
   "outputs": [
    {
     "name": "stdout",
     "output_type": "stream",
     "text": [
      "robot's\n",
      "ranchero\n",
      "ozuna\n"
     ]
    }
   ],
   "source": [
    "yellow_food = random.choice(food['yellow']) \n",
    "white_food = random.choice(food['white']) \n",
    "red_food = random.choice(food['red']) \n",
    "ones = [\"his\",\"her\",\"its\"]\n",
    "one = random.choice(ones)\n",
    "print(random.choice(pr.rhymes(yellow_food)) )\n",
    "print(random.choice(pr.rhymes(white_food)) )\n",
    "print(random.choice(pr.rhymes(red_food)) )"
   ]
  },
  {
   "cell_type": "code",
   "execution_count": 17,
   "metadata": {
    "scrolled": true
   },
   "outputs": [
    {
     "name": "stdout",
     "output_type": "stream",
     "text": [
      "Kedra,Kedra\n",
      "noodle is his favorite food\n",
      "kale,in liquid, boiling with Apricots\n",
      "apricots.\n",
      "Eggplant,in bites, steaming with taro\n",
      "gero.\n",
      "With seven spice pepper, roasting tuna\n",
      "antuna.\n",
      "Kedra\n",
      "\n",
      "\n"
     ]
    }
   ],
   "source": [
    "rules ={\n",
    "    \"origin\" : [\"#name#,#name#\\n#main# is #one# favorite food\\n#boil#\\n#story_a#.\\n#steam#\\n#story_b#.\\n#roast#\\n#story_c#.\\n#name#\"],\n",
    "    \n",
    "    \"main\":[\"Rice ball\",\"rice\",\"noodle\"],\n",
    "    \n",
    "    \"boil\":[\"#greenfood#,in #shape_a#, boiling with #yellowfood#\"],\n",
    "    \n",
    "    \"steam\":[\"#blackfood#,in #shape_b#, steaming with #whitefood#\"],\n",
    "    \n",
    "    \"roast\":[\"With #seasoning#, roasting #redfood#\"],\n",
    "    \n",
    "    \n",
    "    #\"fry\":[\"and #dowith.s# with the #someone#.\"],#\n",
    "    \n",
    "    \"name\":[\n",
    "         random.choice(name)\n",
    "    ],\n",
    "    \n",
    "    \"one\":[\n",
    "      one\n",
    "    ],\n",
    "    \n",
    "    \"greenfood\" : [\n",
    "       random.choice(food['green'])\n",
    "    ],\n",
    "   \n",
    "    \"yellowfood\":[\n",
    "       yellow_food\n",
    "    ],\n",
    "    \n",
    "     \"blackfood\":[\n",
    "        random.choice(food['black'])\n",
    "    ],\n",
    "    \n",
    "    \"redfood\":[\n",
    "       red_food\n",
    "    ],\n",
    "    \n",
    "    \"whitefood\":[\n",
    "       white_food\n",
    "    ],\n",
    "    \n",
    "     \"shape_a\" :[\n",
    "        random.choice(shape)\n",
    "     ],\n",
    "         \n",
    "    \"shape_b\":[\n",
    "        random.choice(shape)\n",
    "    ],\n",
    "    \n",
    "     \"seasoning\" :[\n",
    "       random.choice(seasoning)\n",
    "    ],\n",
    "    \n",
    "    \"story_a\":[\n",
    "        random.choice(pr.rhymes(yellow_food))    \n",
    "    ],\n",
    "    \n",
    "    \"story_b\":[\n",
    "        random.choice(pr.rhymes(white_food))\n",
    "    ],\n",
    "    \n",
    "    \"story_c\":[\n",
    "        random.choice(pr.rhymes(red_food))\n",
    "    ]\n",
    "}\n",
    "\n",
    "\n",
    "\n",
    "grammar = tracery.Grammar(rules)\n",
    "\n",
    "grammar.add_modifiers(base_english)\n",
    "text = grammar.flatten(\"#origin#\")\n",
    "\n",
    "print(grammar.flatten(\"#origin#\"))\n",
    "print(\"\\n\")"
   ]
  },
  {
   "cell_type": "code",
   "execution_count": 18,
   "metadata": {},
   "outputs": [],
   "source": [
    "text = text.lower()\n",
    "text_split = text.split(\"\\n\")"
   ]
  },
  {
   "cell_type": "code",
   "execution_count": 19,
   "metadata": {},
   "outputs": [
    {
     "data": {
      "text/plain": [
       "'kedra,kedra\\nrice is his favorite food\\nkale,in liquid, boiling with apricots\\napricots.\\neggplant,in bites, steaming with taro\\ngero.\\nwith seven spice pepper, roasting tuna\\nantuna.\\nkedra'"
      ]
     },
     "execution_count": 19,
     "metadata": {},
     "output_type": "execute_result"
    }
   ],
   "source": [
    "text"
   ]
  },
  {
   "cell_type": "code",
   "execution_count": 25,
   "metadata": {},
   "outputs": [],
   "source": [
    "class SentencesByChar(markovify.Text):\n",
    "    def word_split(self, sentence):\n",
    "        return list(sentence)\n",
    "    def word_join(self, words):\n",
    "        return \"\".join(words)"
   ]
  },
  {
   "cell_type": "code",
   "execution_count": 27,
   "metadata": {},
   "outputs": [],
   "source": [
    "# change to \"word\" for a word-level model\n",
    "level = \"char\"\n",
    "# controls the length of the n-gram\n",
    "order = 7\n",
    "# controls the number of lines to output\n",
    "output_n = 1000\n",
    "# weights between the models; text A first, text B second.\n",
    "# if you want to completely exclude one model, set its corresponding value to 0\n",
    "weights = [0.2, 0.8]\n",
    "# limit sentence output to this number of characters\n",
    "length_limit = 80"
   ]
  },
  {
   "cell_type": "code",
   "execution_count": 30,
   "metadata": {
    "scrolled": true
   },
   "outputs": [],
   "source": [
    "he_output = []\n",
    "she_output = []\n",
    "it_output = []\n",
    "\n",
    "model_cls = markovify.Text if level == \"word\" else SentencesByChar\n",
    "gen_a = model_cls(sauce_gtale, state_size=order)\n",
    "gen_b = model_cls(sauce_tale, state_size=order)\n",
    "gen_combo = markovify.combine([gen_a, gen_b], weights)\n",
    "for i in range(output_n):\n",
    "    out = gen_combo.make_short_sentence(length_limit, test_output=False)\n",
    "    out = out.replace(\"\\n\", \" \")\n",
    "    if (out[0] == 'H') & (out[1] == 'e'):\n",
    "        he_output.append(out)\n",
    "       \n",
    "    if(out[0]=='S') & (out[1] == 'h'):\n",
    "        she_output.append(out)\n",
    "        \n",
    "    if(out[0]=='I') & (out[1] == 't'):\n",
    "        it_output.append(out)\n",
    "        \n",
    "        "
   ]
  },
  {
   "cell_type": "code",
   "execution_count": 31,
   "metadata": {},
   "outputs": [],
   "source": [
    "final =[]\n",
    "for i in text_split:\n",
    "    if (len(i)<12) :\n",
    "        i = i.replace(\"\\n\", \" \")\n",
    "    final.append(i.capitalize())\n",
    "    if (len(i)<12) :\n",
    "        if one == \"his\": \n",
    "            final.append(random.choice(he_output))\n",
    "        if one == \"her\": \n",
    "            final.append(random.choice(she_output))\n",
    "        if one == \"its\": \n",
    "            final.append(random.choice(it_output))\n",
    "final = final[0:-1]\n",
    "    "
   ]
  },
  {
   "cell_type": "code",
   "execution_count": 32,
   "metadata": {},
   "outputs": [
    {
     "data": {
      "text/plain": [
       "['Kedra,kedra',\n",
       " 'He seated herself, she went to be.',\n",
       " 'Rice is his favorite food',\n",
       " 'Kale,in liquid, boiling with apricots',\n",
       " 'Apricots.',\n",
       " 'Here I found him.',\n",
       " 'Eggplant,in bites, steaming with taro',\n",
       " 'Gero.',\n",
       " 'He took her maidens.',\n",
       " 'With seven spice pepper, roasting tuna',\n",
       " 'Antuna.',\n",
       " 'He makes a long troop by bye-ways back without distinction.”',\n",
       " 'Kedra']"
      ]
     },
     "execution_count": 32,
     "metadata": {},
     "output_type": "execute_result"
    }
   ],
   "source": [
    "final"
   ]
  },
  {
   "cell_type": "code",
   "execution_count": 33,
   "metadata": {
    "scrolled": true
   },
   "outputs": [
    {
     "name": "stdout",
     "output_type": "stream",
     "text": [
      "Kedra,kedra\n",
      "He seated herself, she went to be.\n",
      "Rice is his favorite food\n",
      "Kale,in liquid, boiling with apricots\n",
      "Apricots.\n",
      "Here I found him.\n",
      "Eggplant,in bites, steaming with taro\n",
      "Gero.\n",
      "He took her maidens.\n",
      "With seven spice pepper, roasting tuna\n",
      "Antuna.\n",
      "He makes a long troop by bye-ways back without distinction.”\n",
      "Kedra\n"
     ]
    }
   ],
   "source": [
    "for i in final:\n",
    "    print(i)\n"
   ]
  }
 ],
 "metadata": {
  "kernelspec": {
   "display_name": "Python 3",
   "language": "python",
   "name": "python3"
  },
  "language_info": {
   "codemirror_mode": {
    "name": "ipython",
    "version": 3
   },
   "file_extension": ".py",
   "mimetype": "text/x-python",
   "name": "python",
   "nbconvert_exporter": "python",
   "pygments_lexer": "ipython3",
   "version": "3.6.8"
  }
 },
 "nbformat": 4,
 "nbformat_minor": 2
}
