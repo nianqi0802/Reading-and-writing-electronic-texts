{
 "cells": [
  {
   "cell_type": "markdown",
   "metadata": {},
   "source": [
    "## Reorganization of Chinese Poem \n",
    "\n",
    "I tried to use the code in sample one which is To Make a Dadaist Poem Original written by Tristan Tzara in 1920 to reorganize a Chinese poem. However, the split function does not work properly as it can't find the split point. Therefore, I used random function instead. The information part is from a famous Chinese poem written by Li Bai.\n",
    "\n",
    "It's my first time to use python and I did find some sentence that amazed me:  \n",
    "\n",
    "复其 岑来有醉复 圣倾丹儿斗一还  \n",
    "\n",
    "月杯须言其夫 醒 尽 意有古愁  \n",
    "\n",
    "Though the sentence does not totally make sense right now, it sounds actually quite good in Chinese and does not look very wired. I guess it is partly because the words are from a complete ancient poem in China and thus words have charateristics in common."
   ]
  },
  {
   "cell_type": "code",
   "execution_count": 42,
   "metadata": {},
   "outputs": [
    {
     "name": "stdout",
     "output_type": "stream",
     "text": [
      "还 雪 还夫杯来醉  用千千 烹还 长百君水 牛上马陈 玉金 不丹回  恣君 歌 朝愿不君欢\n",
      "月为名千时尽长 欢 长古岑停古美天 欢白欢乐 饮为寂复 君取明酒莫明暮 有有裘销生 杯生言之生昔\n",
      "同材 百   复千千 君 言愿酌不 万 留 上须 须 河停 其材时子王  酒白君 千上酒 换钱 百\n",
      "其烹贵 饮平花 足耳千月皆见将 宴黄欢销宰复昔 悲使岑樽雪宰 三不斗呼对 径花金 恣 千黄 宰\n",
      "杯月 尽金流进 尽海恣其使月 径尽  高 一 到来恣同来来 材 尽尽馔意昔古\n"
     ]
    }
   ],
   "source": [
    "import random\n",
    "import textwrap\n",
    "\n",
    "words = []\n",
    "# poem count\n",
    "j=0 \n",
    "# sentence count\n",
    "l=0\n",
    "pword = []\n",
    "\n",
    "\n",
    "information = \"\"\"\n",
    "君不见，黄河之水天上来，奔流到海不复回。\n",
    "君不见，高堂明镜悲白发，朝如青丝暮成雪。\n",
    "人生得意须尽欢，莫使金樽空对月。\n",
    "天生我材必有用，千金散尽还复来。\n",
    "烹羊宰牛且为乐，会须一饮三百杯。\n",
    "岑夫子，丹丘生，将进酒，杯莫停。\n",
    "与君歌一曲，请君为我倾耳听。\n",
    "钟鼓馔玉不足贵，但愿长醉不复醒。\n",
    "古来圣贤皆寂寞，惟有饮者留其名。\n",
    "陈王昔时宴平乐，斗酒十千恣欢谑。\n",
    "主人何为言少钱，径须沽取对君酌。\n",
    "五花马，千金裘，呼儿将出换美酒，与尔同销万古愁。\"\"\"\n",
    "\n",
    "#clear the punctuations\n",
    "information = information.replace(\"。\",\"\")\n",
    "information = information.replace(\"，\",\"\")\n",
    "information = information.replace(\" \",\"\")\n",
    "\n",
    "for i in range(len(information)):\n",
    "    #randomly choose the word\n",
    "    wordnum = random.randint(0, len(information)-1)\n",
    "    word = \"\".join(information[wordnum])\n",
    "    #turn it into string \n",
    "    wordx = str(word)\n",
    "    #put them together in a list\n",
    "    words.append(wordx)\n",
    "\n",
    "\n",
    "#randomly choose the length of the sentence until all the words are gone\n",
    "while j<(len(words)-7):\n",
    "    wordlength = random.randint(1,7)\n",
    "    while l<(j+wordlength):\n",
    "        pword.append(words[l])\n",
    "        l= l+1\n",
    "    pword.append(\"\\n\")\n",
    "    j=j+wordlength\n",
    "    \n",
    "    \n",
    "print(textwrap.fill(\"\".join(pword), 50))\n",
    "    \n",
    "\n",
    "    "
   ]
  }
 ],
 "metadata": {
  "kernelspec": {
   "display_name": "Python 3",
   "language": "python",
   "name": "python3"
  },
  "language_info": {
   "codemirror_mode": {
    "name": "ipython",
    "version": 3
   },
   "file_extension": ".py",
   "mimetype": "text/x-python",
   "name": "python",
   "nbconvert_exporter": "python",
   "pygments_lexer": "ipython3",
   "version": "3.7.1"
  }
 },
 "nbformat": 4,
 "nbformat_minor": 2
}
