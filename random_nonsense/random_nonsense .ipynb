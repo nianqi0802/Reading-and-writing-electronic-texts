{
 "cells": [
  {
   "cell_type": "code",
   "execution_count": 168,
   "metadata": {},
   "outputs": [],
   "source": [
    "\n",
    "#adj: https://gist.github.com/hugsy/8910dc78d208e40de42deb29e62df913#file-english-nouns-txt\n",
    "#verb: https://github.com/aaronbassett/Pass-phrase/blob/master/verbs.txt\n",
    "#nouns: http://www.desiquintans.com/nounlist\n",
    "\n",
    "\n",
    "furniture = open(\"furniture.txt\").read().split(\"\\n\")\n",
    "emotion = open(\"emotion.txt\").read().split(\"\\n\")\n",
    "\n",
    "\n",
    "adj = open(\"adj.txt\").read().split(\"\\n\")\n",
    "verb = open(\"verb.txt\").read().split(\"\\n\")\n",
    "nouns = open(\"nounlist.txt\").read().split(\"\\n\")\n",
    "\n",
    "para = 2"
   ]
  },
  {
   "cell_type": "code",
   "execution_count": 169,
   "metadata": {},
   "outputs": [],
   "source": [
    "body = open(\"body.txt\").read().split(\"\\n\")\n",
    "body_change = []\n",
    "for items in body:\n",
    "    items = items.split(\"\t\")\n",
    "    items = items[0]\n",
    "    body_change.append(items)"
   ]
  },
  {
   "cell_type": "code",
   "execution_count": 170,
   "metadata": {},
   "outputs": [],
   "source": [
    "import random"
   ]
  },
  {
   "cell_type": "code",
   "execution_count": 183,
   "metadata": {},
   "outputs": [],
   "source": [
    "selected_verb = random.sample(verb,4*para)\n",
    "selected_adj = random.sample(adj,4*para)\n",
    "selected_nouns = random.sample(nouns,8*para)\n",
    "\n",
    "selected_furniture = random.sample(furniture,para)\n",
    "selected_emotion = random.sample(emotion,para)\n",
    "selected_body = random.sample(body_change,para)"
   ]
  },
  {
   "cell_type": "code",
   "execution_count": 184,
   "metadata": {},
   "outputs": [
    {
     "name": "stdout",
     "output_type": "stream",
     "text": [
      "Sofa bed is a dutiful sensitivity,\n",
      "Bile is a mundane alpha that care proprietor,\n",
      "Contentment is a growing fairy that frame gum,\n",
      "You are a potable accelerant that telephone outhouse\n",
      " \n",
      "Futon is an incomplete fulfillment,\n",
      "Eyeball is a scared virginal,\n",
      "Happiness is a smart rat,\n",
      "You become an exotic seashore that summarize layout\n",
      " \n",
      "\n"
     ]
    }
   ],
   "source": [
    "i = 0\n",
    "output = \"\"\n",
    "while i < para :\n",
    "    \n",
    "    \n",
    "    output += selected_furniture[i] + \" is a \"+ selected_adj[4*i] + \" \" + selected_nouns[8*i]\n",
    "    output += random.choice([\"\",\" that \"+ selected_verb[4*i]+ \" \"+ selected_nouns[8*i+1]]) +\",\"\n",
    "    output += \"\\n\"\n",
    "    \n",
    "    output += selected_body[i].capitalize() + \" is a \"+ selected_adj[4*i+1] + \" \" + selected_nouns[8*i+2]\n",
    "    output += random.choice([\"\",\" that \"+ selected_verb[4*i+1]+ \" \"+ selected_nouns[8*i+3]]) +\",\"\n",
    "    output += \"\\n\"\n",
    "    \n",
    "    output += selected_emotion[i].capitalize() + \" is a \"+ selected_adj[4*i+2] + \" \" + selected_nouns[8*i+4]\n",
    "    output += random.choice([\"\",\" that \"+ selected_verb[4*i+2]+ \" \"+ selected_nouns[8*i+5]]) +\",\"\n",
    "    output += \"\\n\"\n",
    "    \n",
    "    \n",
    "    if (i+1) >= para: \n",
    "        output += \"You become a \" \n",
    "    else:\n",
    "        output += \"You are a \" \n",
    "        \n",
    "    output += selected_adj[4*i+3] + \" \" + selected_nouns[8*i+6] \n",
    "    output += random.choice([\"\",\" that \"+ selected_verb[4*i+3]+ \" \"+ selected_nouns[8*i+7]])\n",
    "    output += \"\\n \\n\"\n",
    "    i+=1\n",
    "\n",
    "output = output.replace(\" a a\",\" an a\")\n",
    "output = output.replace(\" a e\",\" an e\")\n",
    "output = output.replace(\" a i\",\" an i\")\n",
    "output = output.replace(\" a o\",\" an o\")\n",
    "\n",
    "output = output.replace(\"  \", \" \")\n",
    "\n",
    "print(output)"
   ]
  }
 ],
 "metadata": {
  "kernelspec": {
   "display_name": "Python 3",
   "language": "python",
   "name": "python3"
  },
  "language_info": {
   "codemirror_mode": {
    "name": "ipython",
    "version": 3
   },
   "file_extension": ".py",
   "mimetype": "text/x-python",
   "name": "python",
   "nbconvert_exporter": "python",
   "pygments_lexer": "ipython3",
   "version": "3.7.1"
  }
 },
 "nbformat": 4,
 "nbformat_minor": 2
}
